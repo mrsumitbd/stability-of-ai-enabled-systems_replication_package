{
 "cells": [
  {
   "cell_type": "code",
   "execution_count": null,
   "id": "06b33edd-bda9-4e05-9ea9-fa467906c88d",
   "metadata": {},
   "outputs": [],
   "source": [
    "import seaborn as sns\n",
    "import matplotlib.pyplot as plt\n",
    "import pandas as pd\n",
    "import numpy as np"
   ]
  },
  {
   "cell_type": "code",
   "execution_count": null,
   "id": "16325c13-2301-4a01-8a50-fbd51ef95b24",
   "metadata": {},
   "outputs": [],
   "source": [
    "res_df = pd.read_csv('../analysis_report.csv')\n",
    "res_df.drop(columns = \"Unnamed: 0\", inplace = True)"
   ]
  },
  {
   "cell_type": "code",
   "execution_count": null,
   "id": "856e50f9-5527-4f65-b828-dd675cec76e9",
   "metadata": {},
   "outputs": [],
   "source": [
    "res_df.head()"
   ]
  },
  {
   "cell_type": "code",
   "execution_count": null,
   "id": "c062e803-3bb6-439f-b372-433e93818dcb",
   "metadata": {},
   "outputs": [],
   "source": []
  },
  {
   "cell_type": "code",
   "execution_count": null,
   "id": "57dc854a-9b37-401d-b122-97892767fd89",
   "metadata": {},
   "outputs": [],
   "source": [
    "res_df.shape"
   ]
  },
  {
   "cell_type": "code",
   "execution_count": null,
   "id": "8499a60e-bb22-4176-be93-86255a2707fa",
   "metadata": {},
   "outputs": [],
   "source": [
    "res_df.loc[res_df['Metric'] == 'Score'].describe()"
   ]
  },
  {
   "cell_type": "code",
   "execution_count": null,
   "id": "d34409f2-9046-4119-9286-9c85d2014fc0",
   "metadata": {},
   "outputs": [],
   "source": []
  },
  {
   "cell_type": "code",
   "execution_count": null,
   "id": "0b87d128-7463-4e3b-86eb-b83334306bb9",
   "metadata": {},
   "outputs": [],
   "source": [
    "res_df.loc[res_df['Metric'] == 'Processing_Time'].describe()"
   ]
  },
  {
   "cell_type": "code",
   "execution_count": null,
   "id": "8c658e82-4e53-4143-b2d3-41d5d91506c4",
   "metadata": {},
   "outputs": [],
   "source": [
    "res_df.loc[res_df['Metric'] == 'Expense'].describe()"
   ]
  },
  {
   "cell_type": "code",
   "execution_count": null,
   "id": "8808a435-c081-48fb-9a96-8cbe9a9696f0",
   "metadata": {},
   "outputs": [],
   "source": [
    "res_df.loc[res_df['os_mac'] == 0] # no variability between Linux and Mac"
   ]
  },
  {
   "cell_type": "code",
   "execution_count": null,
   "id": "1f046eb3-7666-41c7-8c9f-93ed2ed97aef",
   "metadata": {},
   "outputs": [],
   "source": [
    "res_df.loc[res_df['os_windows'] == 0] # no variability between Linux and Mac"
   ]
  },
  {
   "cell_type": "code",
   "execution_count": null,
   "id": "95e76b8b-5cf2-4a21-a5d0-cb9017db61f1",
   "metadata": {},
   "outputs": [],
   "source": [
    "res_df.loc[res_df['dist_bionic'] == 0] # no variability between xenial and bionic"
   ]
  },
  {
   "cell_type": "code",
   "execution_count": null,
   "id": "50930fa2-5033-48d7-9cb0-e08c11a65789",
   "metadata": {},
   "outputs": [],
   "source": [
    "res_df.loc[res_df['dist_focal'] == 0] # no variability between xenial and focal"
   ]
  },
  {
   "cell_type": "code",
   "execution_count": null,
   "id": "320003f9-18c1-4b36-8d4b-cb7e69aa6cbc",
   "metadata": {},
   "outputs": [],
   "source": [
    "res_df.loc[res_df['py_3_6'] == 0] # no variability between 3.7 and 3.6"
   ]
  },
  {
   "cell_type": "code",
   "execution_count": null,
   "id": "d465d118-156a-4eab-8861-ea0112cf3ff6",
   "metadata": {},
   "outputs": [],
   "source": [
    "res_df.loc[res_df['py_3_8'] == 0] # no variability between 3.7 and 3.8"
   ]
  },
  {
   "cell_type": "code",
   "execution_count": null,
   "id": "f6c52305-8fe0-443c-abfd-c87335b22baf",
   "metadata": {},
   "outputs": [],
   "source": []
  },
  {
   "cell_type": "code",
   "execution_count": null,
   "id": "741caab5-fa69-4997-a353-3b2773613446",
   "metadata": {},
   "outputs": [],
   "source": []
  },
  {
   "cell_type": "code",
   "execution_count": null,
   "id": "650fc31f-6211-4d05-b6e2-17b821141091",
   "metadata": {},
   "outputs": [],
   "source": []
  },
  {
   "cell_type": "code",
   "execution_count": null,
   "id": "70633858-5140-4e9c-a8ab-893dd72e1c88",
   "metadata": {},
   "outputs": [],
   "source": []
  },
  {
   "cell_type": "code",
   "execution_count": null,
   "id": "b82d42f7-1a75-4a66-9db8-f168e7fece47",
   "metadata": {},
   "outputs": [],
   "source": []
  },
  {
   "cell_type": "code",
   "execution_count": null,
   "id": "7ece7d53-4a15-46f6-9a5d-4799ba3bab79",
   "metadata": {},
   "outputs": [],
   "source": []
  },
  {
   "cell_type": "code",
   "execution_count": null,
   "id": "ebfb55fd-f3e8-4553-8d55-2c0477549e60",
   "metadata": {},
   "outputs": [],
   "source": []
  },
  {
   "cell_type": "code",
   "execution_count": null,
   "id": "4f29f9bf-b110-4e34-be47-eefe366d26ae",
   "metadata": {},
   "outputs": [],
   "source": [
    "# some degree of variability Linux vs Mac\n",
    "res_df.loc[(res_df['hw_arm64'] == 0)]"
   ]
  },
  {
   "cell_type": "code",
   "execution_count": null,
   "id": "094aade4-b72f-46c4-8048-23cdb064f26e",
   "metadata": {},
   "outputs": [],
   "source": [
    "def two_sided_vlpot_os(full_df):\n",
    "    #full_df = full_df.loc[res_df['Metric'] == metric, :]\n",
    "    project = []\n",
    "    pct_chng = []\n",
    "    os = []\n",
    "    metric = []\n",
    "    for index, row in full_df.iterrows():\n",
    "        project.append(row['Project'])\n",
    "        metric.append(row['Metric'])\n",
    "        pct_chng.append(row['os_mac'])\n",
    "        os.append(\"Linux vs MacOS\")\n",
    "\n",
    "        project.append(row['Project'])\n",
    "        metric.append(row['Metric'])\n",
    "        pct_chng.append(row['os_windows'])\n",
    "        os.append(\"Linux vs Windows\")\n",
    "\n",
    "    df = pd.DataFrame({'Project' : project,\n",
    "                       'Metric' : metric,\n",
    "                      'Percentage Change' : pct_chng,\n",
    "                      'Operating System' : os})\n",
    "    df['Metric'] = ['Performance' if met == 'Score' else met.replace(\"_\", \" \") for met in df['Metric']]\n",
    "    #return df\n",
    "\n",
    "    plt.figure(figsize = (10, 5))\n",
    "\n",
    "    sns.violinplot(data = df, x = 'Metric', y = np.log(1 + np.abs(df['Percentage Change'])), hue = 'Operating System', split = True, inner=\"quart\", fill=False, orient = 'v');\n",
    "    #plt.legend([\"Linux vx MacOS\", \"Linux vs Windows\"])\n",
    "    plt.tick_params(bottom = False)\n",
    "    plt.xlabel(\"\")\n",
    "    plt.ylabel(\"log (1 + |Percentage Change|)\")\n",
    "    plt.legend(loc='upper left')\n",
    "    plt.savefig(f'../pct_diff_os_all_metric.pdf', format = 'pdf', dpi = 300);"
   ]
  },
  {
   "cell_type": "code",
   "execution_count": null,
   "id": "d992a0be-5ab1-4c1d-83a6-bfd7eb859af5",
   "metadata": {},
   "outputs": [],
   "source": [
    "two_sided_vlpot_os(res_df)"
   ]
  },
  {
   "cell_type": "code",
   "execution_count": null,
   "id": "ec28fc73-4a0f-4982-b324-7475fce1be35",
   "metadata": {},
   "outputs": [],
   "source": [
    "def two_sided_vlpot_dist(full_df):\n",
    "    #full_df = full_df.loc[res_df['Metric'] == metric, :]\n",
    "    project = []\n",
    "    pct_chng = []\n",
    "    dist = []\n",
    "    metric = []\n",
    "    for index, row in full_df.iterrows():\n",
    "        project.append(row['Project'])\n",
    "        metric.append(row['Metric'])\n",
    "        pct_chng.append(row['dist_bionic'])\n",
    "        dist.append(\"Xenial vs Bionic\")\n",
    "\n",
    "        project.append(row['Project'])\n",
    "        metric.append(row['Metric'])\n",
    "        pct_chng.append(row['dist_focal'])\n",
    "        dist.append(\"Xenial vs Focal\")\n",
    "\n",
    "    df = pd.DataFrame({'Project' : project,\n",
    "                       'Metric' : metric,\n",
    "                      'Percentage Change' : pct_chng,\n",
    "                      'Linux Distribution' : dist})\n",
    "    df['Metric'] = ['Performance' if met == 'Score' else met.replace(\"_\", \" \") for met in df['Metric']]\n",
    "    #return df\n",
    "\n",
    "    plt.figure(figsize = (10, 5))\n",
    "\n",
    "    sns.violinplot(data = df, x = 'Metric', y = np.log(1 + np.abs(df['Percentage Change'])), hue = 'Linux Distribution', split = True, inner=\"quart\", fill=False, orient = 'v');\n",
    "    #plt.legend([\"Linux vx MacOS\", \"Linux vs Windows\"])\n",
    "    plt.tick_params(bottom = False)\n",
    "    plt.xlabel(\"\")\n",
    "    plt.ylabel(\"log (1 + |Percentage Change|)\")\n",
    "    plt.legend(loc='upper right')\n",
    "    plt.savefig(f'../pct_diff_dist_all_metric.pdf', format = 'pdf', dpi = 300);"
   ]
  },
  {
   "cell_type": "code",
   "execution_count": null,
   "id": "b95f0d05-91c4-4288-ab68-fbf5ecd7b77a",
   "metadata": {},
   "outputs": [],
   "source": [
    "two_sided_vlpot_dist(res_df)"
   ]
  },
  {
   "cell_type": "code",
   "execution_count": null,
   "id": "5cb0e874-0557-4bbb-a466-f35e05c4b969",
   "metadata": {},
   "outputs": [],
   "source": [
    "def two_sided_vlpot_py(full_df):\n",
    "    #full_df = full_df.loc[res_df['Metric'] == metric, :]\n",
    "    project = []\n",
    "    pct_chng = []\n",
    "    py = []\n",
    "    metric = []\n",
    "    for index, row in full_df.iterrows():\n",
    "        project.append(row['Project'])\n",
    "        metric.append(row['Metric'])\n",
    "        pct_chng.append(row['py_3_6'])\n",
    "        py.append(\"Python 3.6 vs Python 3.7\")\n",
    "\n",
    "        project.append(row['Project'])\n",
    "        metric.append(row['Metric'])\n",
    "        pct_chng.append(row['py_3_8'])\n",
    "        py.append(\"Python 3.7 vs Python 3.8\")\n",
    "\n",
    "    df = pd.DataFrame({'Project' : project,\n",
    "                       'Metric' : metric,\n",
    "                      'Percentage Change' : pct_chng,\n",
    "                      'Python Version' : py})\n",
    "    df['Metric'] = ['Performance' if met == 'Score' else met.replace(\"_\", \" \") for met in df['Metric']]\n",
    "    #return df\n",
    "\n",
    "    plt.figure(figsize = (10, 5))\n",
    "\n",
    "    sns.violinplot(data = df, x = 'Metric', y = np.log(1 + np.abs(df['Percentage Change'])), hue = 'Python Version', split = True, inner=\"quart\", fill=False, orient = 'v');\n",
    "    #plt.legend([\"Linux vx MacOS\", \"Linux vs Windows\"])\n",
    "    plt.tick_params(bottom = False)\n",
    "    plt.xlabel(\"\")\n",
    "    plt.ylabel(\"log (1 + |Percentage Change|)\")\n",
    "    plt.legend(loc='upper left')\n",
    "    plt.savefig(f'../pct_diff_py_all_metric.pdf', format = 'pdf', dpi = 300);"
   ]
  },
  {
   "cell_type": "code",
   "execution_count": null,
   "id": "99d4b7d6-f7df-47e7-9045-3b54b6983c24",
   "metadata": {},
   "outputs": [],
   "source": [
    "two_sided_vlpot_py(res_df)"
   ]
  },
  {
   "cell_type": "code",
   "execution_count": null,
   "id": "4e3e9366-d568-48bc-93f5-55de5b650212",
   "metadata": {},
   "outputs": [],
   "source": []
  },
  {
   "cell_type": "code",
   "execution_count": null,
   "id": "d1e137ac-464c-4a2f-880f-590d308ae2f8",
   "metadata": {},
   "outputs": [],
   "source": []
  },
  {
   "cell_type": "code",
   "execution_count": null,
   "id": "bd14dbb2-4945-4f00-9b14-0ff42b55f4c5",
   "metadata": {},
   "outputs": [],
   "source": []
  },
  {
   "cell_type": "code",
   "execution_count": null,
   "id": "1e8fe835-c6d5-4b3c-bfa6-e116f43d72bf",
   "metadata": {},
   "outputs": [],
   "source": []
  },
  {
   "cell_type": "code",
   "execution_count": null,
   "id": "5dcaf688-f216-4ef4-84aa-8a7d2db88145",
   "metadata": {},
   "outputs": [],
   "source": []
  },
  {
   "cell_type": "code",
   "execution_count": null,
   "id": "92128f8e-21b4-460d-b9d0-aea9069f0fb3",
   "metadata": {},
   "outputs": [],
   "source": []
  },
  {
   "cell_type": "code",
   "execution_count": null,
   "id": "eec61980-074c-460f-8eb9-35f3cd592a6f",
   "metadata": {},
   "outputs": [],
   "source": []
  },
  {
   "cell_type": "code",
   "execution_count": null,
   "id": "92b96761-3fad-4b66-bff8-657647518180",
   "metadata": {},
   "outputs": [],
   "source": [
    "def two_sided_vlpot_hw(full_df):\n",
    "    #full_df = full_df.loc[res_df['Metric'] == metric, :]\n",
    "    project = []\n",
    "    pct_chng = []\n",
    "    hw = []\n",
    "    metric = []\n",
    "    for index, row in full_df.iterrows():\n",
    "        project.append(row['Project'])\n",
    "        metric.append(row['Metric'])\n",
    "        pct_chng.append(row['hw_arm64'])\n",
    "        hw.append(\"AMD64 vs ARM64\")\n",
    "\n",
    "        project.append(row['Project'])\n",
    "        metric.append(row['Metric'])\n",
    "        pct_chng.append(np.nan)\n",
    "        hw.append(\"\")\n",
    "\n",
    "    df = pd.DataFrame({'Project' : project,\n",
    "                       'Metric' : metric,\n",
    "                      'Percentage Change' : pct_chng,\n",
    "                      'CPU Architecture' : hw})\n",
    "    df['Metric'] = ['Performance' if met == 'Score' else met.replace(\"_\", \" \") for met in df['Metric']]\n",
    "    #return df\n",
    "\n",
    "    plt.figure(figsize = (10, 5))\n",
    "\n",
    "    sns.violinplot(data = df, y = 'Metric', x = np.log(1 + np.abs(df['Percentage Change'])), hue = 'CPU Architecture', split = True, inner=\"quart\", fill=False, orient = 'h');\n",
    "    #plt.legend([\"Linux vx MacOS\", \"Linux vs Windows\"])\n",
    "    plt.tick_params(bottom = False)\n",
    "    plt.ylabel(\"\")\n",
    "    plt.xlabel(\"log (1 + |Percentage Change|)\")\n",
    "    plt.legend(loc='upper right')\n",
    "    plt.savefig(f'../pct_diff_hw_all_metric.pdf', format = 'pdf', dpi = 300);\n",
    "        \n",
    "    "
   ]
  },
  {
   "cell_type": "code",
   "execution_count": null,
   "id": "abe0554f-f081-4535-9e78-3308c408fd43",
   "metadata": {},
   "outputs": [],
   "source": [
    "two_sided_vlpot_hw(res_df)"
   ]
  },
  {
   "cell_type": "code",
   "execution_count": null,
   "id": "b0b9c60c-dcd9-4e65-8509-60409996d997",
   "metadata": {},
   "outputs": [],
   "source": []
  },
  {
   "cell_type": "code",
   "execution_count": null,
   "id": "29adf590-a37e-4b6c-adb4-fd3941fcc9a9",
   "metadata": {},
   "outputs": [],
   "source": []
  }
 ],
 "metadata": {
  "kernelspec": {
   "display_name": "Python 3 (ipykernel)",
   "language": "python",
   "name": "python3"
  },
  "language_info": {
   "codemirror_mode": {
    "name": "ipython",
    "version": 3
   },
   "file_extension": ".py",
   "mimetype": "text/x-python",
   "name": "python",
   "nbconvert_exporter": "python",
   "pygments_lexer": "ipython3",
   "version": "3.8.16"
  }
 },
 "nbformat": 4,
 "nbformat_minor": 5
}
